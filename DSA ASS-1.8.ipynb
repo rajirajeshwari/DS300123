{
 "cells": [
  {
   "cell_type": "code",
   "execution_count": 5,
   "id": "adfec27f",
   "metadata": {},
   "outputs": [
    {
     "name": "stdout",
     "output_type": "stream",
     "text": [
      "The code is balanced\n"
     ]
    }
   ],
   "source": [
    "def is_balanced(code):\n",
    "    stack = []\n",
    "    for char in code:\n",
    "        if char in ['(', '[', '{']:\n",
    "            stack.append(char)\n",
    "        elif char in [')', ']', '}']:\n",
    "            if not stack:\n",
    "                return False\n",
    "            elif char == ')' and stack[-1] == '(':\n",
    "                stack.pop()\n",
    "            elif char == ']' and stack[-1] == '[':\n",
    "                stack.pop()\n",
    "            elif char == '}' and stack[-1] == '{':\n",
    "                stack.pop()\n",
    "            else:\n",
    "                return False\n",
    "    return not stack\n",
    "code = '(Hello World!)'\n",
    "if is_balanced(code):\n",
    "    print(\"The code is balanced\")\n",
    "else:\n",
    "    print(\"The code is not balanced\")"
   ]
  },
  {
   "cell_type": "code",
   "execution_count": null,
   "id": "7e3fd8a7",
   "metadata": {},
   "outputs": [],
   "source": []
  }
 ],
 "metadata": {
  "kernelspec": {
   "display_name": "Python 3 (ipykernel)",
   "language": "python",
   "name": "python3"
  },
  "language_info": {
   "codemirror_mode": {
    "name": "ipython",
    "version": 3
   },
   "file_extension": ".py",
   "mimetype": "text/x-python",
   "name": "python",
   "nbconvert_exporter": "python",
   "pygments_lexer": "ipython3",
   "version": "3.11.1"
  }
 },
 "nbformat": 4,
 "nbformat_minor": 5
}
