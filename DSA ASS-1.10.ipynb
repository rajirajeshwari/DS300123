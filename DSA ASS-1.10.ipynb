{
 "cells": [
  {
   "cell_type": "code",
   "execution_count": null,
   "id": "be7e8495",
   "metadata": {},
   "outputs": [],
   "source": [
    "def find_smallest(stack):\n",
    "    if not stack:\n",
    "        return None\n",
    "    smallest = stack[0]\n",
    "    for num in stack:\n",
    "        if num < smallest:\n",
    "            smallest = num\n",
    "    return smallest\n",
    "stack = [5, 2, 8, 1, 9, 3]\n",
    "smallest = find_smallest(stack)\n",
    "print(\"The smallest number in the stack is:\", smallest)"
   ]
  }
 ],
 "metadata": {
  "kernelspec": {
   "display_name": "Python 3 (ipykernel)",
   "language": "python",
   "name": "python3"
  },
  "language_info": {
   "codemirror_mode": {
    "name": "ipython",
    "version": 3
   },
   "file_extension": ".py",
   "mimetype": "text/x-python",
   "name": "python",
   "nbconvert_exporter": "python",
   "pygments_lexer": "ipython3",
   "version": "3.11.1"
  }
 },
 "nbformat": 4,
 "nbformat_minor": 5
}
