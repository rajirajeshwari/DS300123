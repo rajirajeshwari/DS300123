{
 "cells": [
  {
   "cell_type": "code",
   "execution_count": 9,
   "id": "1e56b144",
   "metadata": {},
   "outputs": [
    {
     "name": "stdout",
     "output_type": "stream",
     "text": [
      "+23\n"
     ]
    }
   ],
   "source": [
    "def postfix_to_prefix(postfix):\n",
    "    stack = []\n",
    "    operators = set(['+', '-', '*', '/', '^'])\n",
    "\n",
    "    for char in postfix:\n",
    "        if char not in operators:\n",
    "            stack.append(char)\n",
    "        else:\n",
    "            operand2 = stack.pop()\n",
    "            operand1 = stack.pop()\n",
    "            prefix = char + operand1 + operand2\n",
    "            stack.append(prefix)\n",
    "    return stack.pop()\n",
    "postfix = \"23+\"\n",
    "prefix = postfix_to_prefix(postfix)\n",
    "print(prefix) "
   ]
  }
 ],
 "metadata": {
  "kernelspec": {
   "display_name": "Python 3 (ipykernel)",
   "language": "python",
   "name": "python3"
  },
  "language_info": {
   "codemirror_mode": {
    "name": "ipython",
    "version": 3
   },
   "file_extension": ".py",
   "mimetype": "text/x-python",
   "name": "python",
   "nbconvert_exporter": "python",
   "pygments_lexer": "ipython3",
   "version": "3.11.1"
  }
 },
 "nbformat": 4,
 "nbformat_minor": 5
}
