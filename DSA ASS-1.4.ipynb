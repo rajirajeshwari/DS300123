{
 "cells": [
  {
   "cell_type": "code",
   "execution_count": 1,
   "id": "a46f99c0",
   "metadata": {},
   "outputs": [
    {
     "name": "stdout",
     "output_type": "stream",
     "text": [
      "The first non-repeated character is: c\n"
     ]
    }
   ],
   "source": [
    "def first_non_repeated_char(str):\n",
    "    char_count = {}\n",
    "    \n",
    "    for char in str:\n",
    "        if char in char_count:\n",
    "            char_count[char] += 1\n",
    "        else:\n",
    "            char_count[char] = 1\n",
    "    \n",
    "    for char in str:\n",
    "        if char_count[char] == 1:\n",
    "            return char\n",
    "    \n",
    "    return None\n",
    "\n",
    "str = \"aabbcdeeff\"\n",
    "result = first_non_repeated_char(str)\n",
    "if result is not None:\n",
    "    print(\"The first non-repeated character is:\", result)\n",
    "else:\n",
    "    print(\"There are no non-repeated characters in the string\")\n"
   ]
  },
  {
   "cell_type": "code",
   "execution_count": null,
   "id": "2646ffb6",
   "metadata": {},
   "outputs": [],
   "source": []
  }
 ],
 "metadata": {
  "kernelspec": {
   "display_name": "Python 3 (ipykernel)",
   "language": "python",
   "name": "python3"
  },
  "language_info": {
   "codemirror_mode": {
    "name": "ipython",
    "version": 3
   },
   "file_extension": ".py",
   "mimetype": "text/x-python",
   "name": "python",
   "nbconvert_exporter": "python",
   "pygments_lexer": "ipython3",
   "version": "3.11.1"
  }
 },
 "nbformat": 4,
 "nbformat_minor": 5
}
