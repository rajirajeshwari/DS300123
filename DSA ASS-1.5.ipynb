{
 "cells": [
  {
   "cell_type": "code",
   "execution_count": null,
   "id": "20c34f4c",
   "metadata": {},
   "outputs": [],
   "source": [
    "def tower_of_hanoi(n, source, aux, dest):\n",
    "    \"\"\"\n",
    "    A recursive function that solves the Tower of Hanoi puzzle.\n",
    "    \n",
    "    Parameters:\n",
    "    - n: the number of disks to move\n",
    "    - source: the starting peg\n",
    "    - aux: the auxiliary peg\n",
    "    - dest: the destination peg\n",
    "    \"\"\"\n",
    "    if n == 1:\n",
    "        print(f\"Move disk 1 from {source} to {dest}\")\n",
    "        return\n",
    "    tower_of_hanoi(n-1, source, dest, aux)\n",
    "    print(f\"Move disk {n} from {source} to {dest}\")\n",
    "    tower_of_hanoi(n-1, aux, source, dest)\n",
    "tower_of_hanoi(3, 'A', 'B', 'C')\n"
   ]
  }
 ],
 "metadata": {
  "kernelspec": {
   "display_name": "Python 3 (ipykernel)",
   "language": "python",
   "name": "python3"
  },
  "language_info": {
   "codemirror_mode": {
    "name": "ipython",
    "version": 3
   },
   "file_extension": ".py",
   "mimetype": "text/x-python",
   "name": "python",
   "nbconvert_exporter": "python",
   "pygments_lexer": "ipython3",
   "version": "3.11.1"
  }
 },
 "nbformat": 4,
 "nbformat_minor": 5
}
