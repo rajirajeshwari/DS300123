{
 "cells": [
  {
   "cell_type": "code",
   "execution_count": 1,
   "id": "61728048",
   "metadata": {},
   "outputs": [
    {
     "name": "stdout",
     "output_type": "stream",
     "text": [
      "The strings are rotations of each other\n"
     ]
    }
   ],
   "source": [
    "def are_rotations(str1, str2):\n",
    "    if len(str1) != len(str2):\n",
    "        return False\n",
    "    concat_str = str1 + str1\n",
    "    if str2 in concat_str:\n",
    "        return True\n",
    "    else:\n",
    "        return False\n",
    "str1 = \"abcde\"\n",
    "str2 = \"cdeab\"\n",
    "if are_rotations(str1, str2):\n",
    "    print(\"The strings are rotations of each other\")\n",
    "else:\n",
    "    print(\"The strings are not rotations of each other\")\n"
   ]
  },
  {
   "cell_type": "code",
   "execution_count": null,
   "id": "e3b938f0",
   "metadata": {},
   "outputs": [],
   "source": []
  }
 ],
 "metadata": {
  "kernelspec": {
   "display_name": "Python 3 (ipykernel)",
   "language": "python",
   "name": "python3"
  },
  "language_info": {
   "codemirror_mode": {
    "name": "ipython",
    "version": 3
   },
   "file_extension": ".py",
   "mimetype": "text/x-python",
   "name": "python",
   "nbconvert_exporter": "python",
   "pygments_lexer": "ipython3",
   "version": "3.11.1"
  }
 },
 "nbformat": 4,
 "nbformat_minor": 5
}
